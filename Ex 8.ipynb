{
 "cells": [
  {
   "cell_type": "code",
   "execution_count": 7,
   "id": "53ea89ef",
   "metadata": {},
   "outputs": [],
   "source": [
    "import cv2\n",
    "import numpy as np\n",
    "img=cv2.imread('ber.jpeg',0)\n",
    "cv2.imshow(\"GrayScale Image\",img)\n",
    "\n",
    "\n",
    "edges1 = cv2.Canny(img,100,200)\n",
    "\n",
    "lines=cv2.HoughLinesP(edges1,1,np.pi/180, threshold=80, minLineLength=50,maxLineGap=250)\n",
    "\n",
    "\n",
    "for line in lines:\n",
    "    x1, y1, x2, y2 = line [0] \n",
    "    cv2.line(edges1,(x1, y1),(x2, y2),(255, 0, 0),3)\n",
    "\n",
    "\n",
    "cv2.imshow('Hough',edges1)\n",
    "cv2.waitKey(0)\n",
    "cv2.destroyAllWindows()\n"
   ]
  },
  {
   "cell_type": "code",
   "execution_count": null,
   "id": "b38965c2",
   "metadata": {},
   "outputs": [],
   "source": []
  },
  {
   "cell_type": "code",
   "execution_count": null,
   "id": "137eab6a",
   "metadata": {},
   "outputs": [],
   "source": []
  }
 ],
 "metadata": {
  "kernelspec": {
   "display_name": "Python 3 (ipykernel)",
   "language": "python",
   "name": "python3"
  },
  "language_info": {
   "codemirror_mode": {
    "name": "ipython",
    "version": 3
   },
   "file_extension": ".py",
   "mimetype": "text/x-python",
   "name": "python",
   "nbconvert_exporter": "python",
   "pygments_lexer": "ipython3",
   "version": "3.9.7"
  }
 },
 "nbformat": 4,
 "nbformat_minor": 5
}
